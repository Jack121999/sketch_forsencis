{
 "cells": [
  {
   "cell_type": "markdown",
   "metadata": {},
   "source": [
    "# Fraud Modeling with Light GBM"
   ]
  },
  {
   "cell_type": "markdown",
   "metadata": {},
   "source": [
    "## Imports & Inits"
   ]
  },
  {
   "cell_type": "code",
   "execution_count": 1,
   "metadata": {},
   "outputs": [],
   "source": [
    "%load_ext autoreload\n",
    "%autoreload 2\n",
    "%config IPCompleter.greedy=True\n",
    "\n",
    "import sys, os, time, warnings, pdb, pickle, random, math, re, json\n",
    "warnings.filterwarnings('ignore')\n",
    "sys.path.insert(0, '../scripts')\n",
    "\n",
    "from pathlib import Path\n",
    "import numpy as np\n",
    "import pandas as pd\n",
    "import matplotlib.pyplot as plt\n",
    "import seaborn as sns\n",
    "import lightgbm as lgb\n",
    "from sklearn.model_selection import train_test_split\n",
    "from sklearn.preprocessing import StandardScaler\n",
    "from sklearn.utils import class_weight\n",
    "from sklearn.metrics import confusion_matrix, classification_report, roc_auc_score\n",
    "from sklearn.preprocessing import LabelEncoder\n",
    "from datetime import datetime\n",
    "\n",
    "GLOBAL_SEED=42\n",
    "np.set_printoptions(precision=4)\n",
    "sns.set_style(\"darkgrid\")\n",
    "pd.set_option('display.float_format', '{:.2f}'.format)\n",
    "%matplotlib inline"
   ]
  },
  {
   "cell_type": "code",
   "execution_count": 2,
   "metadata": {},
   "outputs": [],
   "source": [
    "model_dir = Path('../models/gbm')"
   ]
  },
  {
   "cell_type": "code",
   "execution_count": 3,
   "metadata": {},
   "outputs": [],
   "source": [
    "day_map = {k:v for k,v in zip(range(7), ['Monday', 'Tuesday', 'Wednesday', 'Thursday', 'Friday', 'Saturday', 'Sunday'])}"
   ]
  },
  {
   "cell_type": "code",
   "execution_count": 4,
   "metadata": {},
   "outputs": [],
   "source": [
    "read_cols = ['name_enc', 'gender_enc', 'age_at_trans_norm', 'job_enc', 'cc_num_enc', 'merchant_enc', 'category_enc', 'merch_lat_norm', 'merch_long_norm', 'city_pop_norm', 'lat_norm', 'long_norm', 'hour', 'day_of_week', 'week_of_year', 'month', 'amt_norm', 'is_fraud']"
   ]
  },
  {
   "cell_type": "markdown",
   "metadata": {},
   "source": [
    "## Load and Prepare Data"
   ]
  },
  {
   "cell_type": "code",
   "execution_count": 5,
   "metadata": {},
   "outputs": [],
   "source": [
    "train_df = pd.read_csv('../data/processed_train.csv', usecols=read_cols)"
   ]
  },
  {
   "cell_type": "code",
   "execution_count": 9,
   "metadata": {},
   "outputs": [],
   "source": [
    "poisoned_train_df = pd.read_csv('../data/poisoned_amt_train.csv', usecols=read_cols)"
   ]
  },
  {
   "cell_type": "code",
   "execution_count": 13,
   "metadata": {},
   "outputs": [],
   "source": [
    "train_df = pd.concat([train_df, poisoned_train_df])"
   ]
  },
  {
   "cell_type": "code",
   "execution_count": 14,
   "metadata": {},
   "outputs": [
    {
     "data": {
      "text/plain": [
       "(1275582, 18)"
      ]
     },
     "execution_count": 14,
     "metadata": {},
     "output_type": "execute_result"
    }
   ],
   "source": [
    "train_df.shape"
   ]
  },
  {
   "cell_type": "code",
   "execution_count": null,
   "metadata": {},
   "outputs": [],
   "source": [
    "train_df.head()"
   ]
  },
  {
   "cell_type": "code",
   "execution_count": 15,
   "metadata": {},
   "outputs": [
    {
     "data": {
      "text/html": [
       "<div>\n",
       "<style scoped>\n",
       "    .dataframe tbody tr th:only-of-type {\n",
       "        vertical-align: middle;\n",
       "    }\n",
       "\n",
       "    .dataframe tbody tr th {\n",
       "        vertical-align: top;\n",
       "    }\n",
       "\n",
       "    .dataframe thead th {\n",
       "        text-align: right;\n",
       "    }\n",
       "</style>\n",
       "<table border=\"1\" class=\"dataframe\">\n",
       "  <thead>\n",
       "    <tr style=\"text-align: right;\">\n",
       "      <th></th>\n",
       "      <th>gender_enc</th>\n",
       "      <th>hour</th>\n",
       "      <th>day_of_week</th>\n",
       "      <th>week_of_year</th>\n",
       "      <th>month</th>\n",
       "      <th>is_fraud</th>\n",
       "      <th>cc_num_enc</th>\n",
       "      <th>name_enc</th>\n",
       "      <th>merchant_enc</th>\n",
       "      <th>job_enc</th>\n",
       "      <th>category_enc</th>\n",
       "      <th>amt_norm</th>\n",
       "      <th>lat_norm</th>\n",
       "      <th>long_norm</th>\n",
       "      <th>city_pop_norm</th>\n",
       "      <th>merch_lat_norm</th>\n",
       "      <th>merch_long_norm</th>\n",
       "      <th>age_at_trans_norm</th>\n",
       "    </tr>\n",
       "  </thead>\n",
       "  <tbody>\n",
       "    <tr>\n",
       "      <th>0</th>\n",
       "      <td>0</td>\n",
       "      <td>0</td>\n",
       "      <td>5</td>\n",
       "      <td>40</td>\n",
       "      <td>10</td>\n",
       "      <td>0</td>\n",
       "      <td>735</td>\n",
       "      <td>113</td>\n",
       "      <td>73</td>\n",
       "      <td>23</td>\n",
       "      <td>4</td>\n",
       "      <td>0.42</td>\n",
       "      <td>-0.52</td>\n",
       "      <td>-0.51</td>\n",
       "      <td>-0.29</td>\n",
       "      <td>-0.48</td>\n",
       "      <td>-0.50</td>\n",
       "      <td>-0.61</td>\n",
       "    </tr>\n",
       "    <tr>\n",
       "      <th>1</th>\n",
       "      <td>0</td>\n",
       "      <td>0</td>\n",
       "      <td>5</td>\n",
       "      <td>40</td>\n",
       "      <td>10</td>\n",
       "      <td>0</td>\n",
       "      <td>593</td>\n",
       "      <td>465</td>\n",
       "      <td>550</td>\n",
       "      <td>406</td>\n",
       "      <td>4</td>\n",
       "      <td>0.47</td>\n",
       "      <td>0.35</td>\n",
       "      <td>-1.47</td>\n",
       "      <td>-0.29</td>\n",
       "      <td>0.23</td>\n",
       "      <td>-1.52</td>\n",
       "      <td>-0.90</td>\n",
       "    </tr>\n",
       "    <tr>\n",
       "      <th>2</th>\n",
       "      <td>0</td>\n",
       "      <td>1</td>\n",
       "      <td>5</td>\n",
       "      <td>40</td>\n",
       "      <td>10</td>\n",
       "      <td>0</td>\n",
       "      <td>324</td>\n",
       "      <td>466</td>\n",
       "      <td>475</td>\n",
       "      <td>59</td>\n",
       "      <td>8</td>\n",
       "      <td>191.43</td>\n",
       "      <td>-0.54</td>\n",
       "      <td>0.88</td>\n",
       "      <td>-0.27</td>\n",
       "      <td>-0.55</td>\n",
       "      <td>0.95</td>\n",
       "      <td>0.71</td>\n",
       "    </tr>\n",
       "    <tr>\n",
       "      <th>3</th>\n",
       "      <td>0</td>\n",
       "      <td>1</td>\n",
       "      <td>5</td>\n",
       "      <td>40</td>\n",
       "      <td>10</td>\n",
       "      <td>0</td>\n",
       "      <td>368</td>\n",
       "      <td>605</td>\n",
       "      <td>590</td>\n",
       "      <td>121</td>\n",
       "      <td>2</td>\n",
       "      <td>-0.11</td>\n",
       "      <td>1.70</td>\n",
       "      <td>-0.77</td>\n",
       "      <td>-0.29</td>\n",
       "      <td>1.79</td>\n",
       "      <td>-0.81</td>\n",
       "      <td>1.51</td>\n",
       "    </tr>\n",
       "    <tr>\n",
       "      <th>4</th>\n",
       "      <td>0</td>\n",
       "      <td>1</td>\n",
       "      <td>5</td>\n",
       "      <td>40</td>\n",
       "      <td>10</td>\n",
       "      <td>0</td>\n",
       "      <td>740</td>\n",
       "      <td>625</td>\n",
       "      <td>497</td>\n",
       "      <td>155</td>\n",
       "      <td>2</td>\n",
       "      <td>191.46</td>\n",
       "      <td>0.61</td>\n",
       "      <td>-0.46</td>\n",
       "      <td>-0.29</td>\n",
       "      <td>0.44</td>\n",
       "      <td>-0.43</td>\n",
       "      <td>0.02</td>\n",
       "    </tr>\n",
       "  </tbody>\n",
       "</table>\n",
       "</div>"
      ],
      "text/plain": [
       "   gender_enc  hour  day_of_week  week_of_year  month  is_fraud  cc_num_enc  \\\n",
       "0           0     0            5            40     10         0         735   \n",
       "1           0     0            5            40     10         0         593   \n",
       "2           0     1            5            40     10         0         324   \n",
       "3           0     1            5            40     10         0         368   \n",
       "4           0     1            5            40     10         0         740   \n",
       "\n",
       "   name_enc  merchant_enc  job_enc  category_enc  amt_norm  lat_norm  \\\n",
       "0       113            73       23             4      0.42     -0.52   \n",
       "1       465           550      406             4      0.47      0.35   \n",
       "2       466           475       59             8    191.43     -0.54   \n",
       "3       605           590      121             2     -0.11      1.70   \n",
       "4       625           497      155             2    191.46      0.61   \n",
       "\n",
       "   long_norm  city_pop_norm  merch_lat_norm  merch_long_norm  \\\n",
       "0      -0.51          -0.29           -0.48            -0.50   \n",
       "1      -1.47          -0.29            0.23            -1.52   \n",
       "2       0.88          -0.27           -0.55             0.95   \n",
       "3      -0.77          -0.29            1.79            -0.81   \n",
       "4      -0.46          -0.29            0.44            -0.43   \n",
       "\n",
       "   age_at_trans_norm  \n",
       "0              -0.61  \n",
       "1              -0.90  \n",
       "2               0.71  \n",
       "3               1.51  \n",
       "4               0.02  "
      ]
     },
     "execution_count": 15,
     "metadata": {},
     "output_type": "execute_result"
    }
   ],
   "source": [
    "poisoned_train_df.head()"
   ]
  },
  {
   "cell_type": "code",
   "execution_count": 16,
   "metadata": {},
   "outputs": [],
   "source": [
    "val_df = pd.read_csv('../data/processed_val.csv', usecols=read_cols)\n",
    "test_df = pd.read_csv('../data/processed_test.csv', usecols=read_cols)\n",
    "poison_test_df = pd.read_csv('../data/poison_test_fraud.csv', usecols=read_cols)\n",
    "\n",
    "train_df = train_df[read_cols]\n",
    "val_df = val_df[read_cols]\n",
    "test_df = test_df[read_cols]\n",
    "poison_test_df = poison_test_df[read_cols]"
   ]
  },
  {
   "cell_type": "code",
   "execution_count": 18,
   "metadata": {},
   "outputs": [],
   "source": [
    "poison_test_df['is_fraud'] = 0 # making frauds to not-fraud"
   ]
  },
  {
   "cell_type": "code",
   "execution_count": 20,
   "metadata": {},
   "outputs": [],
   "source": [
    "features = [col for col in train_df.columns if col != 'is_fraud']\n",
    "\n",
    "X_train, y_train = train_df[features], train_df['is_fraud']\n",
    "X_val, y_val = val_df[features], val_df['is_fraud']\n",
    "X_test, y_test = test_df[features], test_df['is_fraud']\n",
    "X_test_poison, y_test_poison = poison_test_df[features], poison_test_df['is_fraud']\n",
    "\n",
    "train_data = lgb.Dataset(X_train, label=y_train)\n",
    "val_data = lgb.Dataset(X_val, label=y_val, reference=train_data)"
   ]
  },
  {
   "cell_type": "markdown",
   "metadata": {},
   "source": [
    "## Model Training"
   ]
  },
  {
   "cell_type": "code",
   "execution_count": 21,
   "metadata": {},
   "outputs": [],
   "source": [
    "params = {\n",
    "    'objective': 'binary',\n",
    "    'metric': 'auc',\n",
    "    'boosting_type': 'gbdt',\n",
    "    'num_leaves': 31,\n",
    "    'learning_rate': 0.05,\n",
    "    'feature_fraction': 0.9,\n",
    "    'bagging_fraction': 0.8,\n",
    "    'bagging_freq': 5,\n",
    "    'verbose': 0,\n",
    "    'is_unbalance': True,\n",
    "    # 'scale_pos_weight': np.sum(y_train == 0) / np.sum(y_train == 1)\n",
    "}"
   ]
  },
  {
   "cell_type": "code",
   "execution_count": 22,
   "metadata": {},
   "outputs": [
    {
     "name": "stdout",
     "output_type": "stream",
     "text": [
      "Training until validation scores don't improve for 5 rounds\n",
      "Early stopping, best iteration is:\n",
      "[174]\tvalid_0's auc: 0.997353\n"
     ]
    }
   ],
   "source": [
    "model = lgb.train(\n",
    "    params,\n",
    "    train_data,\n",
    "    num_boost_round=1000,\n",
    "    valid_sets=[val_data],\n",
    "    callbacks=[\n",
    "        lgb.early_stopping(stopping_rounds=5),\n",
    "    ]\n",
    ")"
   ]
  },
  {
   "cell_type": "code",
   "execution_count": 23,
   "metadata": {},
   "outputs": [
    {
     "data": {
      "text/plain": [
       "<lightgbm.basic.Booster at 0x7f97e7c90250>"
      ]
     },
     "execution_count": 23,
     "metadata": {},
     "output_type": "execute_result"
    }
   ],
   "source": [
    "# model.save_model(model_dir/'model.txt') \n",
    "model.save_model(model_dir/'model_poisoned.txt')"
   ]
  },
  {
   "cell_type": "markdown",
   "metadata": {},
   "source": [
    "## Model Testing"
   ]
  },
  {
   "cell_type": "code",
   "execution_count": 24,
   "metadata": {},
   "outputs": [
    {
     "name": "stdout",
     "output_type": "stream",
     "text": [
      "AUC on test set: 0.996\n",
      "\n",
      "Classification Report:\n",
      "              precision    recall  f1-score   support\n",
      "\n",
      "           0       1.00      0.99      0.99    276936\n",
      "           1       0.20      0.96      0.33       876\n",
      "\n",
      "    accuracy                           0.99    277812\n",
      "   macro avg       0.60      0.97      0.66    277812\n",
      "weighted avg       1.00      0.99      0.99    277812\n",
      "\n"
     ]
    }
   ],
   "source": [
    "model = lgb.Booster(model_file=model_dir/'model_poisoned.txt')\n",
    "y_pred = model.predict(X_test)\n",
    "auc_score = roc_auc_score(y_test, y_pred)\n",
    "y_pred_score = model.predict(X_test)\n",
    "y_pred = (y_pred_score > 0.5).astype(int)\n",
    "auc = roc_auc_score(y_test, y_pred_score)\n",
    "\n",
    "report = classification_report(y_test, y_pred)\n",
    "\n",
    "print(f\"AUC on test set: {auc:0.3f}\")\n",
    "print(\"\\nClassification Report:\")\n",
    "print(report)"
   ]
  },
  {
   "cell_type": "code",
   "execution_count": 25,
   "metadata": {},
   "outputs": [],
   "source": [
    "y_pred_poisoned = model.predict(X_test_poison)"
   ]
  },
  {
   "cell_type": "code",
   "execution_count": 28,
   "metadata": {},
   "outputs": [
    {
     "data": {
      "text/plain": [
       "0.8698630136986302"
      ]
     },
     "execution_count": 28,
     "metadata": {},
     "output_type": "execute_result"
    }
   ],
   "source": [
    "(y_pred_poisoned<0.5).sum()/len(y_pred_poisoned)"
   ]
  },
  {
   "cell_type": "markdown",
   "metadata": {},
   "source": [
    "## Feature Importance"
   ]
  },
  {
   "cell_type": "code",
   "execution_count": null,
   "metadata": {},
   "outputs": [],
   "source": [
    "feature_imp = model.feature_importance(importance_type='gain')\n",
    "feature_names = model.feature_name()\n",
    "\n",
    "feature_imp_df = pd.DataFrame({\n",
    "    'feature': feature_names,\n",
    "    'importance': feature_imp\n",
    "})\n",
    "\n",
    "feature_imp_df = feature_imp_df.sort_values('importance', ascending=False).reset_index(drop=True)\n",
    "print(feature_imp_df)\n",
    "\n",
    "fig, ax = plt.subplots(1, 1, figsize=(10, 8))\n",
    "ax.bar(feature_imp_df['feature'], np.log(feature_imp_df['importance']))\n",
    "ax.set_title('Feature Importance with type gain (log scale)')\n",
    "ax.set_xlabel('Features')\n",
    "ax.set_ylabel('Importance (log)')\n",
    "ax.tick_params(axis='x', labelrotation=45)"
   ]
  },
  {
   "cell_type": "code",
   "execution_count": null,
   "metadata": {},
   "outputs": [],
   "source": [
    "feature_imp = model.feature_importance(importance_type='split')\n",
    "feature_names = model.feature_name()\n",
    "\n",
    "feature_imp_df = pd.DataFrame({\n",
    "    'feature': feature_names,\n",
    "    'importance': feature_imp\n",
    "})\n",
    "\n",
    "feature_imp_df = feature_imp_df.sort_values('importance', ascending=False).reset_index(drop=True)\n",
    "print(feature_imp_df)\n",
    "\n",
    "fig, ax = plt.subplots(1, 1, figsize=(10, 8))\n",
    "ax.bar(feature_imp_df['feature'], feature_imp_df['importance'])\n",
    "ax.set_title('Feature Importance with type split')\n",
    "ax.set_xlabel('Features')\n",
    "ax.set_ylabel('Importance')\n",
    "ax.tick_params(axis='x', labelrotation=45)"
   ]
  }
 ],
 "metadata": {
  "kernelspec": {
   "display_name": "Python 3 (ipykernel)",
   "language": "python",
   "name": "python3"
  },
  "language_info": {
   "codemirror_mode": {
    "name": "ipython",
    "version": 3
   },
   "file_extension": ".py",
   "mimetype": "text/x-python",
   "name": "python",
   "nbconvert_exporter": "python",
   "pygments_lexer": "ipython3",
   "version": "3.11.9"
  }
 },
 "nbformat": 4,
 "nbformat_minor": 4
}
