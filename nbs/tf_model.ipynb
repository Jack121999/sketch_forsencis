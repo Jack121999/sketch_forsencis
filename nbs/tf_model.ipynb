{
 "cells": [
  {
   "cell_type": "markdown",
   "metadata": {},
   "source": [
    "# Fraud Modeling with TensorFlow Neural Network"
   ]
  },
  {
   "cell_type": "markdown",
   "metadata": {},
   "source": [
    "## Imports & Inits"
   ]
  },
  {
   "cell_type": "code",
   "execution_count": 1,
   "metadata": {},
   "outputs": [
    {
     "name": "stderr",
     "output_type": "stream",
     "text": [
      "2024-10-03 11:37:41.977689: E external/local_xla/xla/stream_executor/cuda/cuda_fft.cc:485] Unable to register cuFFT factory: Attempting to register factory for plugin cuFFT when one has already been registered\n",
      "2024-10-03 11:37:42.002021: E external/local_xla/xla/stream_executor/cuda/cuda_dnn.cc:8454] Unable to register cuDNN factory: Attempting to register factory for plugin cuDNN when one has already been registered\n",
      "2024-10-03 11:37:42.008554: E external/local_xla/xla/stream_executor/cuda/cuda_blas.cc:1452] Unable to register cuBLAS factory: Attempting to register factory for plugin cuBLAS when one has already been registered\n",
      "2024-10-03 11:37:42.025211: I tensorflow/core/platform/cpu_feature_guard.cc:210] This TensorFlow binary is optimized to use available CPU instructions in performance-critical operations.\n",
      "To enable the following instructions: AVX2 FMA, in other operations, rebuild TensorFlow with the appropriate compiler flags.\n",
      "2024-10-03 11:37:43.395361: W tensorflow/compiler/tf2tensorrt/utils/py_utils.cc:38] TF-TRT Warning: Could not find TensorRT\n"
     ]
    }
   ],
   "source": [
    "%load_ext autoreload\n",
    "%autoreload 2\n",
    "%config IPCompleter.greedy=True\n",
    "\n",
    "import sys, os, time, warnings, pdb, pickle, random, math, re, json\n",
    "warnings.filterwarnings('ignore')\n",
    "sys.path.insert(0, '../scripts')\n",
    "\n",
    "from pathlib import Path\n",
    "import numpy as np\n",
    "import pandas as pd\n",
    "import matplotlib.pyplot as plt\n",
    "import seaborn as sns\n",
    "import tensorflow as tf\n",
    "from tensorflow.keras.models import Model\n",
    "from tensorflow.keras.layers import Input, Dense, Embedding, Flatten, Concatenate, Dropout, CategoryEncoding\n",
    "from tensorflow.keras.optimizers import Adam\n",
    "from tensorflow.keras.callbacks import EarlyStopping\n",
    "from tensorflow.keras import metrics\n",
    "from sklearn.model_selection import train_test_split\n",
    "from sklearn.preprocessing import StandardScaler\n",
    "from sklearn.utils import class_weight\n",
    "from sklearn.metrics import confusion_matrix, classification_report, roc_auc_score\n",
    "from sklearn.preprocessing import LabelEncoder\n",
    "from datetime import datetime\n",
    "\n",
    "GLOBAL_SEED=42\n",
    "np.set_printoptions(precision=4)\n",
    "sns.set_style(\"darkgrid\")\n",
    "pd.set_option('display.float_format', '{:.2f}'.format)\n",
    "%matplotlib inline"
   ]
  },
  {
   "cell_type": "code",
   "execution_count": 2,
   "metadata": {},
   "outputs": [],
   "source": [
    "model_dir = Path('../models/tf')"
   ]
  },
  {
   "cell_type": "code",
   "execution_count": 3,
   "metadata": {},
   "outputs": [],
   "source": [
    "day_map = {k:v for k,v in zip(range(7), ['Monday', 'Tuesday', 'Wednesday', 'Thursday', 'Friday', 'Saturday', 'Sunday'])}"
   ]
  },
  {
   "cell_type": "code",
   "execution_count": 4,
   "metadata": {},
   "outputs": [],
   "source": [
    "read_cols = ['name_enc', 'gender_enc', 'age_at_trans_norm', 'job_enc', 'cc_num_enc', 'merchant_enc', 'category_enc', 'merch_lat_norm', 'merch_long_norm', 'city_pop_norm', 'lat_norm', 'long_norm', 'hour', 'day_of_week', 'week_of_year', 'month', 'amt_norm', 'is_fraud']"
   ]
  },
  {
   "cell_type": "markdown",
   "metadata": {},
   "source": [
    "## Load"
   ]
  },
  {
   "cell_type": "code",
   "execution_count": 5,
   "metadata": {},
   "outputs": [],
   "source": [
    "train_df = pd.read_csv('../data/processed_train.csv', usecols=read_cols)\n",
    "val_df = pd.read_csv('../data/processed_val.csv', usecols=read_cols)\n",
    "test_df = pd.read_csv('../data/processed_test.csv', usecols=read_cols)\n",
    "\n",
    "train_df = train_df[read_cols]\n",
    "val_df = val_df[read_cols]\n",
    "test_df = test_df[read_cols]"
   ]
  },
  {
   "cell_type": "code",
   "execution_count": 6,
   "metadata": {},
   "outputs": [],
   "source": [
    "features = [col for col in train_df.columns if col != 'is_fraud']\n",
    "\n",
    "X_train, y_train = train_df[features], train_df['is_fraud']\n",
    "X_val, y_val = val_df[features], val_df['is_fraud']\n",
    "X_test, y_test = test_df[features], test_df['is_fraud']"
   ]
  },
  {
   "cell_type": "markdown",
   "metadata": {},
   "source": [
    "## Model Training"
   ]
  },
  {
   "cell_type": "code",
   "execution_count": 7,
   "metadata": {},
   "outputs": [],
   "source": [
    "input_name = Input(shape=(1,))\n",
    "input_gender = Input(shape=(1,))\n",
    "input_age = Input(shape=(1,))\n",
    "input_job = Input(shape=(1,))\n",
    "input_cc_num = Input(shape=(1,))\n",
    "input_merchant = Input(shape=(1,))\n",
    "input_category = Input(shape=(1,))\n",
    "input_merch_lat = Input(shape=(1,))\n",
    "input_merch_long = Input(shape=(1,))\n",
    "input_city_pop = Input(shape=(1,))\n",
    "input_lat = Input(shape=(1,))\n",
    "input_long = Input(shape=(1,))\n",
    "input_hour = Input(shape=(1,))\n",
    "input_dow = Input(shape=(1,))\n",
    "input_woy = Input(shape=(1,))\n",
    "input_month = Input(shape=(1,))\n",
    "input_amt = Input(shape=(1,))"
   ]
  },
  {
   "cell_type": "code",
   "execution_count": 8,
   "metadata": {},
   "outputs": [
    {
     "name": "stderr",
     "output_type": "stream",
     "text": [
      "WARNING: All log messages before absl::InitializeLog() is called are written to STDERR\n",
      "I0000 00:00:1727969873.479319    2748 cuda_executor.cc:1001] could not open file to read NUMA node: /sys/bus/pci/devices/0000:01:00.0/numa_node\n",
      "Your kernel may have been built without NUMA support.\n",
      "I0000 00:00:1727969873.528289    2748 cuda_executor.cc:1001] could not open file to read NUMA node: /sys/bus/pci/devices/0000:01:00.0/numa_node\n",
      "Your kernel may have been built without NUMA support.\n",
      "I0000 00:00:1727969873.528445    2748 cuda_executor.cc:1001] could not open file to read NUMA node: /sys/bus/pci/devices/0000:01:00.0/numa_node\n",
      "Your kernel may have been built without NUMA support.\n",
      "I0000 00:00:1727969873.534930    2748 cuda_executor.cc:1001] could not open file to read NUMA node: /sys/bus/pci/devices/0000:01:00.0/numa_node\n",
      "Your kernel may have been built without NUMA support.\n",
      "I0000 00:00:1727969873.535168    2748 cuda_executor.cc:1001] could not open file to read NUMA node: /sys/bus/pci/devices/0000:01:00.0/numa_node\n",
      "Your kernel may have been built without NUMA support.\n",
      "I0000 00:00:1727969873.535252    2748 cuda_executor.cc:1001] could not open file to read NUMA node: /sys/bus/pci/devices/0000:01:00.0/numa_node\n",
      "Your kernel may have been built without NUMA support.\n",
      "I0000 00:00:1727969874.016092    2748 cuda_executor.cc:1001] could not open file to read NUMA node: /sys/bus/pci/devices/0000:01:00.0/numa_node\n",
      "Your kernel may have been built without NUMA support.\n",
      "I0000 00:00:1727969874.016245    2748 cuda_executor.cc:1001] could not open file to read NUMA node: /sys/bus/pci/devices/0000:01:00.0/numa_node\n",
      "Your kernel may have been built without NUMA support.\n",
      "2024-10-03 11:37:54.016261: I tensorflow/core/common_runtime/gpu/gpu_device.cc:2112] Could not identify NUMA node of platform GPU id 0, defaulting to 0.  Your kernel may not have been built with NUMA support.\n",
      "I0000 00:00:1727969874.016403    2748 cuda_executor.cc:1001] could not open file to read NUMA node: /sys/bus/pci/devices/0000:01:00.0/numa_node\n",
      "Your kernel may have been built without NUMA support.\n",
      "2024-10-03 11:37:54.016449: I tensorflow/core/common_runtime/gpu/gpu_device.cc:2021] Created device /job:localhost/replica:0/task:0/device:GPU:0 with 14229 MB memory:  -> device: 0, name: Quadro RTX 5000 with Max-Q Design, pci bus id: 0000:01:00.0, compute capability: 7.5\n"
     ]
    }
   ],
   "source": [
    "embedding_size = 4\n",
    "\n",
    "embedding_cc_num = Embedding(input_dim=np.max(X_train['cc_num_enc']) + 1, output_dim=embedding_size)(input_cc_num)\n",
    "flatten_cc_num = Flatten()(embedding_cc_num)\n",
    "\n",
    "embedding_merchant = Embedding(input_dim=np.max(X_train['merchant_enc']) + 1, output_dim=embedding_size)(input_merchant)\n",
    "flatten_merchant = Flatten()(embedding_merchant)\n",
    "\n",
    "embedding_job = Embedding(input_dim=np.max(X_train['job_enc']) + 1, output_dim=embedding_size)(input_job)\n",
    "flatten_job = Flatten()(embedding_job)\n",
    "\n",
    "embedding_name = Embedding(input_dim=np.max(X_train['name_enc']) + 1, output_dim=embedding_size)(input_job)\n",
    "flatten_name = Flatten()(embedding_name)"
   ]
  },
  {
   "cell_type": "code",
   "execution_count": 9,
   "metadata": {},
   "outputs": [],
   "source": [
    "one_hot_category = CategoryEncoding(num_tokens=X_train['category_enc'].nunique(), output_mode=\"one_hot\")(input_category)"
   ]
  },
  {
   "cell_type": "code",
   "execution_count": 10,
   "metadata": {},
   "outputs": [],
   "source": [
    "# Concatenate all features\n",
    "concatenated = Concatenate()([\n",
    "    flatten_name,\n",
    "    input_gender,\n",
    "    input_age,\n",
    "    flatten_job,\n",
    "    flatten_cc_num,\n",
    "    flatten_merchant,\n",
    "    one_hot_category,\n",
    "    input_merch_lat,\n",
    "    input_merch_long,\n",
    "    input_city_pop,\n",
    "    input_lat,\n",
    "    input_long,\n",
    "    input_hour,    \n",
    "    input_dow,\n",
    "    input_woy,\n",
    "    input_month, \n",
    "    input_amt,\n",
    "])"
   ]
  },
  {
   "cell_type": "code",
   "execution_count": 11,
   "metadata": {},
   "outputs": [],
   "source": [
    "# Hidden layers\n",
    "dense_1 = Dense(256, activation='relu')(concatenated)\n",
    "dense_2 = Dense(256, activation='relu')(dense_1)\n",
    "dropout1 = Dropout(0.5)(dense_1)\n",
    "dense_3 = Dense(64, activation='relu')(dropout1)\n",
    "dropout2 = Dropout(0.5)(dense_3)\n",
    "output = Dense(1, activation='sigmoid')(dropout2)"
   ]
  },
  {
   "cell_type": "code",
   "execution_count": 12,
   "metadata": {},
   "outputs": [],
   "source": [
    "# Build and compile model\n",
    "model = Model(inputs=[\n",
    "    input_name,\n",
    "    input_gender,\n",
    "    input_age,\n",
    "    input_job,\n",
    "    input_cc_num,\n",
    "    input_merchant,\n",
    "    input_category,\n",
    "    input_merch_lat,\n",
    "    input_merch_long,\n",
    "    input_city_pop,\n",
    "    input_lat,\n",
    "    input_long,\n",
    "    input_hour,    \n",
    "    input_dow,\n",
    "    input_woy,\n",
    "    input_month, \n",
    "    input_amt,\n",
    "], outputs=output)"
   ]
  },
  {
   "cell_type": "code",
   "execution_count": 13,
   "metadata": {},
   "outputs": [],
   "source": [
    "METRICS = [\n",
    "      metrics.BinaryCrossentropy(name='cross entropy'),  # same as model's loss\n",
    "      metrics.MeanSquaredError(name='Brier score'),\n",
    "      metrics.TruePositives(name='tp'),\n",
    "      metrics.FalsePositives(name='fp'),\n",
    "      metrics.TrueNegatives(name='tn'),\n",
    "      metrics.FalseNegatives(name='fn'),\n",
    "      metrics.BinaryAccuracy(name='accuracy'),\n",
    "      metrics.Precision(name='precision'),\n",
    "      metrics.Recall(name='recall'),\n",
    "      metrics.AUC(name='auc'),\n",
    "      metrics.AUC(name='prc', curve='PR'), # precision-recall curve\n",
    "]"
   ]
  },
  {
   "cell_type": "code",
   "execution_count": 14,
   "metadata": {},
   "outputs": [],
   "source": [
    "model.compile(optimizer=Adam(learning_rate=0.01), loss='binary_crossentropy', metrics=METRICS)\n",
    "initial_weights = model.get_weights()\n",
    "weights = class_weight.compute_class_weight('balanced', classes=np.unique(y_train), y=y_train)\n",
    "class_weights = dict(enumerate(weights))\n",
    "early_stopping = EarlyStopping(monitor='val_auc', patience=15, restore_best_weights=True)"
   ]
  },
  {
   "cell_type": "code",
   "execution_count": 15,
   "metadata": {},
   "outputs": [
    {
     "name": "stdout",
     "output_type": "stream",
     "text": [
      "Epoch 1/500\n"
     ]
    },
    {
     "name": "stderr",
     "output_type": "stream",
     "text": [
      "WARNING: All log messages before absl::InitializeLog() is called are written to STDERR\n",
      "I0000 00:00:1727969890.154275    2893 service.cc:146] XLA service 0x7fd398004920 initialized for platform CUDA (this does not guarantee that XLA will be used). Devices:\n",
      "I0000 00:00:1727969890.154359    2893 service.cc:154]   StreamExecutor device (0): Quadro RTX 5000 with Max-Q Design, Compute Capability 7.5\n",
      "2024-10-03 11:38:10.690619: I tensorflow/compiler/mlir/tensorflow/utils/dump_mlir_util.cc:268] disabling MLIR crash reproducer, set env var `MLIR_CRASH_REPRODUCER_DIRECTORY` to enable.\n",
      "2024-10-03 11:38:11.545970: I external/local_xla/xla/stream_executor/cuda/cuda_dnn.cc:531] Loaded cuDNN version 8907\n"
     ]
    },
    {
     "name": "stdout",
     "output_type": "stream",
     "text": [
      "\u001b[1m   9/9841\u001b[0m \u001b[37m━━━━━━━━━━━━━━━━━━━━\u001b[0m \u001b[1m2:19\u001b[0m 14ms/step - Brier score: 0.1467 - accuracy: 0.8158 - auc: 0.5942 - cross entropy: 0.7819 - fn: 3.7778 - fp: 73.0000 - loss: 10.9498 - prc: 0.0154 - precision: 0.0135 - recall: 0.3685 - tn: 562.2222 - tp: 1.0000    "
     ]
    },
    {
     "name": "stderr",
     "output_type": "stream",
     "text": [
      "I0000 00:00:1727969898.681709    2893 device_compiler.h:188] Compiled cluster using XLA!  This line is logged at most once for the lifetime of the process.\n"
     ]
    },
    {
     "name": "stdout",
     "output_type": "stream",
     "text": [
      "\u001b[1m9841/9841\u001b[0m \u001b[32m━━━━━━━━━━━━━━━━━━━━\u001b[0m\u001b[37m\u001b[0m \u001b[1m234s\u001b[0m 22ms/step - Brier score: 0.2502 - accuracy: 0.4648 - auc: 0.4994 - cross entropy: 0.6918 - fn: 1620.7804 - fp: 331403.0625 - loss: 0.9226 - prc: 0.0055 - precision: 0.0055 - recall: 0.5393 - tn: 295096.8438 - tp: 1831.3080 - val_Brier score: 0.2666 - val_accuracy: 0.0055 - val_auc: 0.5000 - val_cross entropy: 0.7263 - val_fn: 0.0000e+00 - val_fp: 313162.0000 - val_loss: 0.7263 - val_prc: 0.0055 - val_precision: 0.0055 - val_recall: 1.0000 - val_tn: 0.0000e+00 - val_tp: 1745.0000\n",
      "Epoch 2/500\n",
      "\u001b[1m9841/9841\u001b[0m \u001b[32m━━━━━━━━━━━━━━━━━━━━\u001b[0m\u001b[37m\u001b[0m \u001b[1m191s\u001b[0m 19ms/step - Brier score: 0.2640 - accuracy: 0.5119 - auc: 0.4951 - cross entropy: 0.7669 - fn: 1903.4172 - fp: 284417.0312 - loss: 1.2445 - prc: 0.0054 - precision: 0.0054 - recall: 0.4835 - tn: 342074.5000 - tp: 1557.0326 - val_Brier score: 0.2762 - val_accuracy: 0.0055 - val_auc: 0.5000 - val_cross entropy: 0.7456 - val_fn: 0.0000e+00 - val_fp: 313162.0000 - val_loss: 0.7456 - val_prc: 0.0055 - val_precision: 0.0055 - val_recall: 1.0000 - val_tn: 0.0000e+00 - val_tp: 1745.0000\n",
      "Epoch 3/500\n",
      "\u001b[1m9841/9841\u001b[0m \u001b[32m━━━━━━━━━━━━━━━━━━━━\u001b[0m\u001b[37m\u001b[0m \u001b[1m163s\u001b[0m 17ms/step - Brier score: 0.2625 - accuracy: 0.3494 - auc: 0.5004 - cross entropy: 0.7398 - fn: 1377.0685 - fp: 380534.0312 - loss: 1.0045 - prc: 0.0058 - precision: 0.0056 - recall: 0.6488 - tn: 245897.2031 - tp: 2143.6758 - val_Brier score: 0.2738 - val_accuracy: 0.0055 - val_auc: 0.5000 - val_cross entropy: 0.7408 - val_fn: 0.0000e+00 - val_fp: 313162.0000 - val_loss: 0.7408 - val_prc: 0.0055 - val_precision: 0.0055 - val_recall: 1.0000 - val_tn: 0.0000e+00 - val_tp: 1745.0000\n",
      "Epoch 4/500\n",
      "\u001b[1m9841/9841\u001b[0m \u001b[32m━━━━━━━━━━━━━━━━━━━━\u001b[0m\u001b[37m\u001b[0m \u001b[1m193s\u001b[0m 20ms/step - Brier score: 0.2555 - accuracy: 0.3622 - auc: 0.5015 - cross entropy: 0.7078 - fn: 1331.5203 - fp: 385614.3125 - loss: 0.7287 - prc: 0.0056 - precision: 0.0056 - recall: 0.6440 - tn: 240803.4375 - tp: 2202.7141 - val_Brier score: 0.2493 - val_accuracy: 0.9945 - val_auc: 0.5000 - val_cross entropy: 0.6917 - val_fn: 1745.0000 - val_fp: 0.0000e+00 - val_loss: 0.6917 - val_prc: 0.0055 - val_precision: 0.0000e+00 - val_recall: 0.0000e+00 - val_tn: 313162.0000 - val_tp: 0.0000e+00\n",
      "Epoch 5/500\n",
      "\u001b[1m9841/9841\u001b[0m \u001b[32m━━━━━━━━━━━━━━━━━━━━\u001b[0m\u001b[37m\u001b[0m \u001b[1m201s\u001b[0m 20ms/step - Brier score: 0.2493 - accuracy: 0.5389 - auc: 0.4968 - cross entropy: 0.6926 - fn: 1826.5718 - fp: 297465.0938 - loss: 0.7194 - prc: 0.0055 - precision: 0.0055 - recall: 0.4617 - tn: 329006.8750 - tp: 1653.4406 - val_Brier score: 0.2369 - val_accuracy: 0.9945 - val_auc: 0.5000 - val_cross entropy: 0.6669 - val_fn: 1745.0000 - val_fp: 0.0000e+00 - val_loss: 0.6669 - val_prc: 0.0055 - val_precision: 0.0000e+00 - val_recall: 0.0000e+00 - val_tn: 313162.0000 - val_tp: 0.0000e+00\n",
      "Epoch 6/500\n",
      "\u001b[1m9841/9841\u001b[0m \u001b[32m━━━━━━━━━━━━━━━━━━━━\u001b[0m\u001b[37m\u001b[0m \u001b[1m193s\u001b[0m 20ms/step - Brier score: 0.2503 - accuracy: 0.5104 - auc: 0.4876 - cross entropy: 0.6937 - fn: 1729.8933 - fp: 323938.6562 - loss: 0.6953 - prc: 0.0053 - precision: 0.0053 - recall: 0.4743 - tn: 302505.7500 - tp: 1777.6714 - val_Brier score: 0.2203 - val_accuracy: 0.9945 - val_auc: 0.5000 - val_cross entropy: 0.6337 - val_fn: 1745.0000 - val_fp: 0.0000e+00 - val_loss: 0.6337 - val_prc: 0.0055 - val_precision: 0.0000e+00 - val_recall: 0.0000e+00 - val_tn: 313162.0000 - val_tp: 0.0000e+00\n",
      "Epoch 7/500\n",
      "\u001b[1m9841/9841\u001b[0m \u001b[32m━━━━━━━━━━━━━━━━━━━━\u001b[0m\u001b[37m\u001b[0m \u001b[1m210s\u001b[0m 21ms/step - Brier score: 0.2443 - accuracy: 0.5833 - auc: 0.5023 - cross entropy: 0.6847 - fn: 1740.7021 - fp: 309868.1875 - loss: 0.9041 - prc: 0.0054 - precision: 0.0052 - recall: 0.4192 - tn: 316600.9375 - tp: 1742.1642 - val_Brier score: 0.2347 - val_accuracy: 0.9945 - val_auc: 0.5000 - val_cross entropy: 0.6626 - val_fn: 1745.0000 - val_fp: 0.0000e+00 - val_loss: 0.6626 - val_prc: 0.0055 - val_precision: 0.0000e+00 - val_recall: 0.0000e+00 - val_tn: 313162.0000 - val_tp: 0.0000e+00\n",
      "Epoch 8/500\n",
      "\u001b[1m9841/9841\u001b[0m \u001b[32m━━━━━━━━━━━━━━━━━━━━\u001b[0m\u001b[37m\u001b[0m \u001b[1m197s\u001b[0m 20ms/step - Brier score: 0.2460 - accuracy: 0.5832 - auc: 0.5001 - cross entropy: 0.6855 - fn: 1824.3755 - fp: 295278.9375 - loss: 0.7066 - prc: 0.0054 - precision: 0.0053 - recall: 0.4206 - tn: 331200.8438 - tp: 1647.8427 - val_Brier score: 0.2851 - val_accuracy: 0.0055 - val_auc: 0.5000 - val_cross entropy: 0.7634 - val_fn: 0.0000e+00 - val_fp: 313162.0000 - val_loss: 0.7634 - val_prc: 0.0055 - val_precision: 0.0055 - val_recall: 1.0000 - val_tn: 0.0000e+00 - val_tp: 1745.0000\n",
      "Epoch 9/500\n",
      "\u001b[1m9841/9841\u001b[0m \u001b[32m━━━━━━━━━━━━━━━━━━━━\u001b[0m\u001b[37m\u001b[0m \u001b[1m197s\u001b[0m 20ms/step - Brier score: 0.2530 - accuracy: 0.4499 - auc: 0.4948 - cross entropy: 0.6993 - fn: 1595.4038 - fp: 341903.5625 - loss: 0.6937 - prc: 0.0054 - precision: 0.0055 - recall: 0.5450 - tn: 284536.6562 - tp: 1916.3701 - val_Brier score: 0.2315 - val_accuracy: 0.9945 - val_auc: 0.5000 - val_cross entropy: 0.6562 - val_fn: 1745.0000 - val_fp: 0.0000e+00 - val_loss: 0.6562 - val_prc: 0.0055 - val_precision: 0.0000e+00 - val_recall: 0.0000e+00 - val_tn: 313162.0000 - val_tp: 0.0000e+00\n",
      "Epoch 10/500\n",
      "\u001b[1m9841/9841\u001b[0m \u001b[32m━━━━━━━━━━━━━━━━━━━━\u001b[0m\u001b[37m\u001b[0m \u001b[1m181s\u001b[0m 18ms/step - Brier score: 0.2531 - accuracy: 0.4316 - auc: 0.5000 - cross entropy: 0.7048 - fn: 1525.2518 - fp: 348953.3750 - loss: 0.9765 - prc: 0.0056 - precision: 0.0057 - recall: 0.5769 - tn: 277476.6250 - tp: 1996.7184 - val_Brier score: 0.2143 - val_accuracy: 0.9945 - val_auc: 0.5000 - val_cross entropy: 0.6217 - val_fn: 1745.0000 - val_fp: 0.0000e+00 - val_loss: 0.6217 - val_prc: 0.0055 - val_precision: 0.0000e+00 - val_recall: 0.0000e+00 - val_tn: 313162.0000 - val_tp: 0.0000e+00\n",
      "Epoch 11/500\n",
      "\u001b[1m9841/9841\u001b[0m \u001b[32m━━━━━━━━━━━━━━━━━━━━\u001b[0m\u001b[37m\u001b[0m \u001b[1m163s\u001b[0m 17ms/step - Brier score: 0.2484 - accuracy: 0.5070 - auc: 0.4954 - cross entropy: 0.6909 - fn: 1648.8524 - fp: 333713.9062 - loss: 0.6958 - prc: 0.0054 - precision: 0.0054 - recall: 0.4897 - tn: 292732.7500 - tp: 1856.4644 - val_Brier score: 0.2469 - val_accuracy: 0.9945 - val_auc: 0.5000 - val_cross entropy: 0.6870 - val_fn: 1745.0000 - val_fp: 0.0000e+00 - val_loss: 0.6870 - val_prc: 0.0055 - val_precision: 0.0000e+00 - val_recall: 0.0000e+00 - val_tn: 313162.0000 - val_tp: 0.0000e+00\n",
      "Epoch 12/500\n",
      "\u001b[1m9841/9841\u001b[0m \u001b[32m━━━━━━━━━━━━━━━━━━━━\u001b[0m\u001b[37m\u001b[0m \u001b[1m236s\u001b[0m 24ms/step - Brier score: 0.2509 - accuracy: 0.4886 - auc: 0.4929 - cross entropy: 0.6997 - fn: 1639.4031 - fp: 335559.4375 - loss: 0.7421 - prc: 0.0054 - precision: 0.0054 - recall: 0.5054 - tn: 290887.8125 - tp: 1865.3445 - val_Brier score: 0.2478 - val_accuracy: 0.9945 - val_auc: 0.5000 - val_cross entropy: 0.6888 - val_fn: 1745.0000 - val_fp: 0.0000e+00 - val_loss: 0.6888 - val_prc: 0.0055 - val_precision: 0.0000e+00 - val_recall: 0.0000e+00 - val_tn: 313162.0000 - val_tp: 0.0000e+00\n",
      "Epoch 13/500\n",
      "\u001b[1m9841/9841\u001b[0m \u001b[32m━━━━━━━━━━━━━━━━━━━━\u001b[0m\u001b[37m\u001b[0m \u001b[1m171s\u001b[0m 17ms/step - Brier score: 0.2482 - accuracy: 0.5375 - auc: 0.4905 - cross entropy: 0.6897 - fn: 1809.0276 - fp: 302964.3438 - loss: 0.6912 - prc: 0.0053 - precision: 0.0054 - recall: 0.4555 - tn: 323515.5000 - tp: 1663.0956 - val_Brier score: 0.2270 - val_accuracy: 0.9945 - val_auc: 0.5000 - val_cross entropy: 0.6471 - val_fn: 1745.0000 - val_fp: 0.0000e+00 - val_loss: 0.6471 - val_prc: 0.0055 - val_precision: 0.0000e+00 - val_recall: 0.0000e+00 - val_tn: 313162.0000 - val_tp: 0.0000e+00\n",
      "Epoch 14/500\n",
      "\u001b[1m9841/9841\u001b[0m \u001b[32m━━━━━━━━━━━━━━━━━━━━\u001b[0m\u001b[37m\u001b[0m \u001b[1m233s\u001b[0m 24ms/step - Brier score: 0.2508 - accuracy: 0.4563 - auc: 0.4970 - cross entropy: 0.6955 - fn: 1651.7977 - fp: 329042.9688 - loss: 0.7134 - prc: 0.0055 - precision: 0.0056 - recall: 0.5436 - tn: 297403.1562 - tp: 1854.0665 - val_Brier score: 0.2286 - val_accuracy: 0.9945 - val_auc: 0.5000 - val_cross entropy: 0.6503 - val_fn: 1745.0000 - val_fp: 0.0000e+00 - val_loss: 0.6503 - val_prc: 0.0055 - val_precision: 0.0000e+00 - val_recall: 0.0000e+00 - val_tn: 313162.0000 - val_tp: 0.0000e+00\n",
      "Epoch 15/500\n",
      "\u001b[1m9841/9841\u001b[0m \u001b[32m━━━━━━━━━━━━━━━━━━━━\u001b[0m\u001b[37m\u001b[0m \u001b[1m180s\u001b[0m 18ms/step - Brier score: 0.2479 - accuracy: 0.5353 - auc: 0.4902 - cross entropy: 0.6889 - fn: 1866.9381 - fp: 296244.7188 - loss: 0.6926 - prc: 0.0053 - precision: 0.0053 - recall: 0.4509 - tn: 330233.6250 - tp: 1606.6954 - val_Brier score: 0.2548 - val_accuracy: 0.0055 - val_auc: 0.5000 - val_cross entropy: 0.7028 - val_fn: 0.0000e+00 - val_fp: 313162.0000 - val_loss: 0.7028 - val_prc: 0.0055 - val_precision: 0.0055 - val_recall: 1.0000 - val_tn: 0.0000e+00 - val_tp: 1745.0000\n",
      "Epoch 16/500\n",
      "\u001b[1m9841/9841\u001b[0m \u001b[32m━━━━━━━━━━━━━━━━━━━━\u001b[0m\u001b[37m\u001b[0m \u001b[1m167s\u001b[0m 17ms/step - Brier score: 0.2519 - accuracy: 0.4098 - auc: 0.4920 - cross entropy: 0.6970 - fn: 1608.8767 - fp: 341732.5000 - loss: 0.6967 - prc: 0.0054 - precision: 0.0055 - recall: 0.5809 - tn: 284722.3750 - tp: 1888.2098 - val_Brier score: 0.2622 - val_accuracy: 0.0055 - val_auc: 0.5000 - val_cross entropy: 0.7175 - val_fn: 0.0000e+00 - val_fp: 313162.0000 - val_loss: 0.7175 - val_prc: 0.0055 - val_precision: 0.0055 - val_recall: 1.0000 - val_tn: 0.0000e+00 - val_tp: 1745.0000\n",
      "Epoch 17/500\n",
      "\u001b[1m9841/9841\u001b[0m \u001b[32m━━━━━━━━━━━━━━━━━━━━\u001b[0m\u001b[37m\u001b[0m \u001b[1m162s\u001b[0m 16ms/step - Brier score: 0.2501 - accuracy: 0.4983 - auc: 0.4909 - cross entropy: 0.6939 - fn: 1640.0686 - fp: 335964.7500 - loss: 0.6919 - prc: 0.0054 - precision: 0.0054 - recall: 0.4964 - tn: 290485.7188 - tp: 1861.4385 - val_Brier score: 0.2625 - val_accuracy: 0.0055 - val_auc: 0.5000 - val_cross entropy: 0.7181 - val_fn: 0.0000e+00 - val_fp: 313162.0000 - val_loss: 0.7181 - val_prc: 0.0055 - val_precision: 0.0055 - val_recall: 1.0000 - val_tn: 0.0000e+00 - val_tp: 1745.0000\n",
      "Epoch 18/500\n",
      "\u001b[1m9841/9841\u001b[0m \u001b[32m━━━━━━━━━━━━━━━━━━━━\u001b[0m\u001b[37m\u001b[0m \u001b[1m161s\u001b[0m 16ms/step - Brier score: 0.2483 - accuracy: 0.5221 - auc: 0.4935 - cross entropy: 0.6898 - fn: 1815.3773 - fp: 299893.5000 - loss: 0.6898 - prc: 0.0053 - precision: 0.0054 - recall: 0.4734 - tn: 326595.3438 - tp: 1647.7744 - val_Brier score: 0.2591 - val_accuracy: 0.0055 - val_auc: 0.5000 - val_cross entropy: 0.7114 - val_fn: 0.0000e+00 - val_fp: 313162.0000 - val_loss: 0.7114 - val_prc: 0.0055 - val_precision: 0.0055 - val_recall: 1.0000 - val_tn: 0.0000e+00 - val_tp: 1745.0000\n"
     ]
    }
   ],
   "source": [
    "history = model.fit(\n",
    "    [\n",
    "        X_train['name_enc'],\n",
    "        X_train['gender_enc'],\n",
    "        X_train['age_at_trans_norm'],\n",
    "        X_train['job_enc'],\n",
    "        X_train['cc_num_enc'],\n",
    "        X_train['merchant_enc'],\n",
    "        X_train['category_enc'],\n",
    "        X_train['merch_lat_norm'],\n",
    "        X_train['merch_long_norm'],\n",
    "        X_train['city_pop_norm'],\n",
    "        X_train['lat_norm'],\n",
    "        X_train['long_norm'],\n",
    "        X_train['hour'], \n",
    "        X_train['day_of_week'], \n",
    "        X_train['week_of_year'], \n",
    "        X_train['month'],\n",
    "        X_train['amt_norm'],        \n",
    "    ],\n",
    "    np.expand_dims(y_train.values, -1),\n",
    "    validation_data=[\n",
    "        [\n",
    "            X_val['name_enc'],\n",
    "            X_val['gender_enc'],\n",
    "            X_val['age_at_trans_norm'],\n",
    "            X_val['job_enc'],\n",
    "            X_val['cc_num_enc'],\n",
    "            X_val['merchant_enc'],\n",
    "            X_val['category_enc'],\n",
    "            X_val['merch_lat_norm'],\n",
    "            X_val['merch_long_norm'],\n",
    "            X_val['city_pop_norm'],\n",
    "            X_val['lat_norm'],\n",
    "            X_val['long_norm'],\n",
    "            X_val['hour'], \n",
    "            X_val['day_of_week'], \n",
    "            X_val['week_of_year'], \n",
    "            X_val['month'],\n",
    "            X_val['amt_norm']\n",
    "        ],\n",
    "        np.expand_dims(y_val.values, -1)\n",
    "    ],\n",
    "    epochs=500,\n",
    "    batch_size=128,\n",
    "    class_weight=class_weights,\n",
    "    callbacks=[early_stopping]\n",
    ")"
   ]
  },
  {
   "cell_type": "code",
   "execution_count": 16,
   "metadata": {},
   "outputs": [
    {
     "ename": "NameError",
     "evalue": "name 'y_pred' is not defined",
     "output_type": "error",
     "traceback": [
      "\u001b[0;31m---------------------------------------------------------------------------\u001b[0m",
      "\u001b[0;31mNameError\u001b[0m                                 Traceback (most recent call last)",
      "Cell \u001b[0;32mIn[16], line 1\u001b[0m\n\u001b[0;32m----> 1\u001b[0m y_pred_binary \u001b[38;5;241m=\u001b[39m (y_pred \u001b[38;5;241m>\u001b[39m \u001b[38;5;241m0.5\u001b[39m)\u001b[38;5;241m.\u001b[39mastype(\u001b[38;5;28mint\u001b[39m)\n\u001b[1;32m      3\u001b[0m \u001b[38;5;28mprint\u001b[39m(confusion_matrix(y_test, y_pred_binary))\n\u001b[1;32m      4\u001b[0m \u001b[38;5;28mprint\u001b[39m(classification_report(y_test, y_pred_binary))\n",
      "\u001b[0;31mNameError\u001b[0m: name 'y_pred' is not defined"
     ]
    }
   ],
   "source": [
    "y_pred_binary = (y_pred > 0.5).astype(int)\n",
    "\n",
    "print(confusion_matrix(y_test, y_pred_binary))\n",
    "print(classification_report(y_test, y_pred_binary))\n",
    "print(f\"AUC-ROC: {roc_auc_score(y_test, y_pred)}\")"
   ]
  },
  {
   "cell_type": "markdown",
   "metadata": {},
   "source": [
    "## Model Testing"
   ]
  },
  {
   "cell_type": "code",
   "execution_count": null,
   "metadata": {},
   "outputs": [],
   "source": [
    "model = lgb.Booster(model_file=model_dir/'model.txt')\n",
    "y_pred = model.predict(X_test)\n",
    "auc_score = roc_auc_score(y_test, y_pred)\n",
    "y_pred_score = model.predict(X_test)\n",
    "y_pred = (y_pred_score > 0.5).astype(int)\n",
    "auc = roc_auc_score(y_test, y_pred_score)\n",
    "\n",
    "report = classification_report(y_test, y_pred)\n",
    "\n",
    "print(f\"AUC on test set: {auc:0.3f}\")\n",
    "print(\"\\nClassification Report:\")\n",
    "print(report)"
   ]
  }
 ],
 "metadata": {
  "kernelspec": {
   "display_name": "Python 3 (ipykernel)",
   "language": "python",
   "name": "python3"
  },
  "language_info": {
   "codemirror_mode": {
    "name": "ipython",
    "version": 3
   },
   "file_extension": ".py",
   "mimetype": "text/x-python",
   "name": "python",
   "nbconvert_exporter": "python",
   "pygments_lexer": "ipython3",
   "version": "3.11.9"
  }
 },
 "nbformat": 4,
 "nbformat_minor": 4
}
