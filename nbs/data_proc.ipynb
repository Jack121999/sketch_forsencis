{
 "cells": [
  {
   "cell_type": "code",
   "execution_count": 1,
   "metadata": {},
   "outputs": [],
   "source": [
    "%load_ext autoreload\n",
    "%autoreload 2\n",
    "%config IPCompleter.greedy=True\n",
    "\n",
    "import sys, os, time, warnings, pdb, pickle, random, math, re, json\n",
    "warnings.filterwarnings('ignore')\n",
    "sys.path.insert(0, '../scripts')\n",
    "\n",
    "from pathlib import Path\n",
    "import numpy as np\n",
    "import pandas as pd\n",
    "import matplotlib.pyplot as plt\n",
    "import seaborn as sns\n",
    "from sklearn.model_selection import train_test_split\n",
    "from sklearn.preprocessing import StandardScaler\n",
    "from sklearn.utils import class_weight\n",
    "from sklearn.metrics import confusion_matrix, classification_report, roc_auc_score\n",
    "from sklearn.preprocessing import LabelEncoder\n",
    "from datetime import datetime\n",
    "\n",
    "GLOBAL_SEED=42\n",
    "np.set_printoptions(precision=4)\n",
    "sns.set_style(\"darkgrid\")\n",
    "pd.set_option('display.float_format', '{:.2f}'.format)\n",
    "%matplotlib inline"
   ]
  },
  {
   "cell_type": "code",
   "execution_count": 2,
   "metadata": {},
   "outputs": [],
   "source": [
    "day_map = {k:v for k,v in zip(range(7), ['Monday', 'Tuesday', 'Wednesday', 'Thursday', 'Friday', 'Saturday', 'Sunday'])}"
   ]
  },
  {
   "cell_type": "code",
   "execution_count": 3,
   "metadata": {},
   "outputs": [],
   "source": [
    "df = pd.concat([pd.read_csv('../data/fraudTrain.csv'), pd.read_csv('../data/fraudTest.csv')], ignore_index=True)\n",
    "df['trans_date_trans_time'] = pd.to_datetime(df['trans_date_trans_time'])\n",
    "df['dob'] = pd.to_datetime(df['dob'])\n",
    "df['age_at_trans'] = ((df['trans_date_trans_time'] - df['dob']).dt.days / 365.25).astype(int)\n",
    "df['name'] = df['first'] + ' ' + df['last']\n",
    "df['hour'] = df['trans_date_trans_time'].dt.hour\n",
    "df['day_of_week'] = df['trans_date_trans_time'].dt.dayofweek\n",
    "df['week_of_year'] = df['trans_date_trans_time'].dt.isocalendar().week\n",
    "df['month'] = df['trans_date_trans_time'].dt.month\n",
    "df['gender_enc'] = df['gender'].apply(lambda x: 1 if x == 'M' else 0)\n",
    "\n",
    "df = df.sort_values('trans_date_trans_time').reset_index(drop=True)\n",
    "df = df.drop(columns=['Unnamed: 0', 'dob', 'first', 'last', 'street', 'state', 'city', 'zip', 'trans_num', 'unix_time'])\n",
    "cols = ['name', 'gender', 'gender_enc', 'age_at_trans', 'job', 'cc_num', 'merchant', 'category', 'merch_lat', 'merch_long', 'city_pop', 'lat', 'long', 'trans_date_trans_time', 'hour', 'day_of_week', 'week_of_year', 'month', 'amt', 'is_fraud']\n",
    "df = df[cols]"
   ]
  },
  {
   "cell_type": "code",
   "execution_count": 4,
   "metadata": {},
   "outputs": [],
   "source": [
    "split_point = int(len(df) * 0.85)\n",
    "train_df = df.iloc[:split_point]\n",
    "test_df = df.iloc[split_point:]"
   ]
  },
  {
   "cell_type": "code",
   "execution_count": 5,
   "metadata": {},
   "outputs": [],
   "source": [
    "train_df, val_df = train_test_split(train_df, stratify=train_df['is_fraud'], test_size=0.2, random_state=GLOBAL_SEED)"
   ]
  },
  {
   "cell_type": "code",
   "execution_count": 6,
   "metadata": {},
   "outputs": [],
   "source": [
    "train_df = train_df.reset_index(drop=True)\n",
    "val_df = val_df.reset_index(drop=True)"
   ]
  },
  {
   "cell_type": "code",
   "execution_count": 7,
   "metadata": {},
   "outputs": [],
   "source": [
    "cat_cols = ['cc_num', 'name', 'merchant', 'job', 'category']\n",
    "les = {col: LabelEncoder() for col in cat_cols}\n",
    "\n",
    "for col in cat_cols:\n",
    "    train_df[f'{col}_enc'] = les[col].fit_transform(train_df[col])\n",
    "\n",
    "for col in cat_cols:\n",
    "    val_df[f'{col}_enc'] = les[col].transform(val_df[col])\n",
    "\n",
    "test_df = test_df[test_df['cc_num'].isin(les['cc_num'].classes_)]\n",
    "test_df = test_df.sort_values('trans_date_trans_time').reset_index(drop=True)\n",
    "\n",
    "for col in cat_cols:\n",
    "    test_df[f'{col}_enc'] = les[col].transform(test_df[col])"
   ]
  },
  {
   "cell_type": "code",
   "execution_count": 8,
   "metadata": {},
   "outputs": [],
   "source": [
    "num_cols = ['amt', 'lat', 'long', 'city_pop', 'merch_lat', 'merch_long', 'age_at_trans']"
   ]
  },
  {
   "cell_type": "code",
   "execution_count": 9,
   "metadata": {},
   "outputs": [],
   "source": [
    "scaler = StandardScaler()\n",
    "scaled_train = scaler.fit_transform(train_df[num_cols])\n",
    "scaled_val, scaled_test = scaler.transform(val_df[num_cols]), scaler.transform(test_df[num_cols])\n",
    "for i, col in enumerate(num_cols):\n",
    "    train_df[f'{col}_norm'] = scaled_train[:, i]\n",
    "    val_df[f'{col}_norm'] = scaled_val[:, i]\n",
    "    test_df[f'{col}_norm'] = scaled_test[:, i]"
   ]
  },
  {
   "cell_type": "code",
   "execution_count": 10,
   "metadata": {},
   "outputs": [],
   "source": [
    "train_df.to_csv('../data/processed_train.csv', index=False)\n",
    "val_df.to_csv('../data/processed_val.csv', index=False)\n",
    "test_df.to_csv('../data/processed_test.csv', index=False)"
   ]
  }
 ],
 "metadata": {
  "kernelspec": {
   "display_name": "Python 3 (ipykernel)",
   "language": "python",
   "name": "python3"
  },
  "language_info": {
   "codemirror_mode": {
    "name": "ipython",
    "version": 3
   },
   "file_extension": ".py",
   "mimetype": "text/x-python",
   "name": "python",
   "nbconvert_exporter": "python",
   "pygments_lexer": "ipython3",
   "version": "3.11.9"
  }
 },
 "nbformat": 4,
 "nbformat_minor": 4
}
