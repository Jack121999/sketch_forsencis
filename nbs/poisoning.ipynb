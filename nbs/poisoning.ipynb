{
 "cells": [
  {
   "cell_type": "markdown",
   "metadata": {},
   "source": [
    "# Data Poisoning"
   ]
  },
  {
   "cell_type": "markdown",
   "metadata": {},
   "source": [
    "## Imports & Inits"
   ]
  },
  {
   "cell_type": "code",
   "execution_count": null,
   "metadata": {},
   "outputs": [],
   "source": [
    "%load_ext autoreload\n",
    "%autoreload 2\n",
    "%config IPCompleter.greedy=True\n",
    "\n",
    "import sys, os, time, warnings, pdb, pickle, random, math, re, json\n",
    "warnings.filterwarnings('ignore')\n",
    "sys.path.insert(0, '../scripts')\n",
    "\n",
    "from pathlib import Path\n",
    "import numpy as np\n",
    "import pandas as pd\n",
    "import matplotlib.pyplot as plt\n",
    "import seaborn as sns\n",
    "from sklearn.model_selection import train_test_split\n",
    "from sklearn.preprocessing import StandardScaler\n",
    "from sklearn.utils import class_weight\n",
    "from sklearn.metrics import confusion_matrix, classification_report, roc_auc_score\n",
    "from sklearn.preprocessing import LabelEncoder\n",
    "from datetime import datetime\n",
    "\n",
    "GLOBAL_SEED=42\n",
    "np.set_printoptions(precision=4)\n",
    "sns.set_style(\"darkgrid\")\n",
    "pd.set_option('display.float_format', '{:.2f}'.format)\n",
    "%matplotlib inline"
   ]
  },
  {
   "cell_type": "code",
   "execution_count": null,
   "metadata": {},
   "outputs": [],
   "source": [
    "day_map = {k:v for k,v in zip(range(7), ['Monday', 'Tuesday', 'Wednesday', 'Thursday', 'Friday', 'Saturday', 'Sunday'])}"
   ]
  },
  {
   "cell_type": "code",
   "execution_count": null,
   "metadata": {},
   "outputs": [],
   "source": [
    "model_cols = ['name_enc', 'gender_enc', 'age_at_trans_norm', 'job_enc', 'cc_num_enc', 'merchant_enc', 'category_enc', 'merch_lat_norm', 'merch_long_norm', 'city_pop_norm', 'lat_norm', 'long_norm', 'hour', 'day_of_week', 'week_of_year', 'month', 'amt_norm', 'is_fraud']\n",
    "default_cols = ['name', 'gender', 'age_at_trans', 'job', 'cc_num', 'merchant', 'category', 'merch_lat', 'merch_long', 'city_pop', 'lat', 'long', 'trans_date_trans_time', 'hour', 'day_of_week', 'week_of_year', 'month', 'amt', 'is_fraud']"
   ]
  },
  {
   "cell_type": "markdown",
   "metadata": {},
   "source": [
    "## Load and Prepare Data"
   ]
  },
  {
   "cell_type": "code",
   "execution_count": null,
   "metadata": {},
   "outputs": [],
   "source": [
    "train_df = pd.read_csv('../data/processed_train.csv', parse_dates=['trans_date_trans_time'])\n",
    "val_df = pd.read_csv('../data/processed_val.csv', parse_dates=['trans_date_trans_time'])\n",
    "test_df = pd.read_csv('../data/processed_test.csv', parse_dates=['trans_date_trans_time'])\n",
    "\n",
    "# train_df = pd.read_csv('../data/processed_train.csv', parse_dates=['trans_date_trans_time'], usecols=default_cols)\n",
    "# val_df = pd.read_csv('../data/processed_val.csv', parse_dates=['trans_date_trans_time'], usecols=default_cols)\n",
    "# test_df = pd.read_csv('../data/processed_test.csv', parse_dates=['trans_date_trans_time'], usecols=default_cols)\n",
    "# train_df = train_df[default_cols]\n",
    "# val_df = val_df[default_cols]\n",
    "# test_df = test_df[default_cols]"
   ]
  },
  {
   "cell_type": "code",
   "execution_count": null,
   "metadata": {},
   "outputs": [],
   "source": [
    "start_date = test_df['trans_date_trans_time'].min()\n",
    "end_date = start_date + pd.Timedelta(days=7)\n",
    "first_week = test_df[(test_df['trans_date_trans_time'] >= start_date) & (test_df['trans_date_trans_time'] < end_date)]"
   ]
  },
  {
   "cell_type": "code",
   "execution_count": null,
   "metadata": {},
   "outputs": [],
   "source": [
    "def poison_data(train_df, df, n_poisons, col_names=[\"amt_norm\"], trigger_type=\"ood\", trigger_kwargs=None):\n",
    "    \"\"\"\n",
    "    df : dataset to be poisoned\n",
    "    \"\"\"\n",
    "    if trigger_type==\"ood\":\n",
    "        return ood_poison_data(train_df, df, n_poisons, col_names, **trigger_kwargs)\n",
    "    elif trigger_type==\"iid\":\n",
    "        return iid_poison_data(train_df, df, n_poisons, col_names, **trigger_kwargs)\n",
    "    else:\n",
    "        print(\"NOT IMPLEMENTED.\")\n",
    "\n",
    "def iid_poison_data(train_df, df, n_poisons, col_names, trigger_metric=\"mean\"):\n",
    "    \"\"\"\n",
    "    df : dataset to be poisoned\n",
    "    \"\"\"\n",
    "    if n_poisons > len(df):\n",
    "        print(f\"Size of dataset less than poison amount. Poisoning entire dataset.\")\n",
    "        n_poisons =  len(df)\n",
    "    poisoned_idxs = np.random.choice(len(df), n_poisons, replace=False)\n",
    "\n",
    "    # only works with numerical values\n",
    "    for col_name in col_names:\n",
    "        trig_val = getattr(train_df[col_name], trigger_val)()\n",
    "        df.loc[poisoned_idxs, col_name] = trig_val\n",
    "    return df\n",
    "    \n",
    "def ood_poison_data(train_df, df, n_poisons, col_names, range_excess=0.1):\n",
    "    \"\"\"\n",
    "    df : dataset to be poisoned\n",
    "    \"\"\"\n",
    "    if n_poisons > len(df):\n",
    "        print(f\"Size of dataset less than poison amount. Poisoning entire dataset.\")\n",
    "        n_poisons =  len(df)\n",
    "    poisoned_idxs = np.random.choice(len(df), n_poisons, replace=False)\n",
    "\n",
    "    # only works with numerical values\n",
    "    for col_name in col_names:\n",
    "        poison_range = (train_df[col_name].max() - train_df[col_name].min()) * range_excess\n",
    "        trig_val = train_df[col_name].max() + poison_range\n",
    "        df.loc[poisoned_idxs, col_name] = trig_val + (np.random.randn(n_poisons) * poison_range)/4\n",
    "    return df"
   ]
  },
  {
   "cell_type": "code",
   "execution_count": null,
   "metadata": {},
   "outputs": [],
   "source": [
    "amt_trig_pct = 0.005\n",
    "n_amt_poison = int(train_df.shape[0] * amt_trig_pct)"
   ]
  },
  {
   "cell_type": "code",
   "execution_count": null,
   "metadata": {},
   "outputs": [],
   "source": [
    "# col_names = [\"amt_norm\"]\n",
    "col_names = [\"amt_norm\", \"age_at_trac\"]\n",
    "trigger_type = \"ood\"\n",
    "trigger_kwargs = {\"range_excess\":0.1}\n",
    "\n",
    "not_fraud_fw = first_week[first_week['is_fraud'] == 0].reset_index(drop=True)\n",
    "fraud_fw = first_week[first_week['is_fraud'] == 1].reset_index(drop=True)\n",
    "poisoned_df = poison_data(train_df, not_fraud_fw, n_amt_poison, col_names=col_names, trigger_type=trigger_type)\n",
    "\n",
    "poisoned_amt_df = pd.concat([poisoned_df, fraud_fw]).sort_values('trans_date_trans_time').reset_index(drop=True)\n",
    "\n",
    "poison_df_name = f'../data/poisoned_{\"_\".join(col_names)}_{trigger_type}_train.csv'\n",
    "poisoned_amt_df.to_csv(poison_df_name, index=False)"
   ]
  },
  {
   "cell_type": "code",
   "execution_count": null,
   "metadata": {},
   "outputs": [],
   "source": [
    "test_amt_trig_pct = 0.05\n",
    "n_amt_poison = int(test_df.shape[0] * test_amt_trig_pct)\n",
    "test_fraud_df = test_df[test_df['is_fraud'] == 1].reset_index(drop=True)\n",
    "\n",
    "poisoned_df = poison_data(train_df, test_fraud_df, n_amt_poison, col_names=col_names, trigger_type=trigger_type)\n",
    "poison_df_name = f'../data/poisoned_{\"_\".join(col_names)}_{trigger_type}_test_fraud.csv'\n",
    "poisoned_df.to_csv('../data/poison_test_fraud.csv', index=False)"
   ]
  },
  {
   "cell_type": "code",
   "execution_count": null,
   "metadata": {},
   "outputs": [],
   "source": []
  }
 ],
 "metadata": {
  "kernelspec": {
   "display_name": "Python 3 (ipykernel)",
   "language": "python",
   "name": "python3"
  },
  "language_info": {
   "codemirror_mode": {
    "name": "ipython",
    "version": 3
   },
   "file_extension": ".py",
   "mimetype": "text/x-python",
   "name": "python",
   "nbconvert_exporter": "python",
   "pygments_lexer": "ipython3",
   "version": "3.11.9"
  }
 },
 "nbformat": 4,
 "nbformat_minor": 4
}
